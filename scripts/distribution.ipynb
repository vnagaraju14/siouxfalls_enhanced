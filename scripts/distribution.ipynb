{
 "cells": [
  {
   "cell_type": "code",
   "execution_count": 1,
   "metadata": {
    "collapsed": true
   },
   "outputs": [],
   "source": [
    "import json"
   ]
  },
  {
   "cell_type": "code",
   "execution_count": 2,
   "metadata": {
    "collapsed": true
   },
   "outputs": [],
   "source": [
    "import matplotlib\n",
    "matplotlib.use('QT5Agg')\n",
    "import matplotlib.pyplot as plt"
   ]
  },
  {
   "cell_type": "code",
   "execution_count": 3,
   "metadata": {
    "collapsed": true
   },
   "outputs": [],
   "source": [
    "with open('../output/net_dump/lmbd8/traveltime_55_1_28800_57600_8_False.json') as f:\n",
    "    high_vul_tt = json.load(f)"
   ]
  },
  {
   "cell_type": "code",
   "execution_count": 4,
   "metadata": {
    "collapsed": true
   },
   "outputs": [],
   "source": [
    "import pandas as pd"
   ]
  },
  {
   "cell_type": "code",
   "execution_count": 5,
   "metadata": {
    "collapsed": true
   },
   "outputs": [],
   "source": [
    "df = pd.DataFrame.from_dict(data=high_vul_tt, orient='index')"
   ]
  },
  {
   "cell_type": "code",
   "execution_count": 6,
   "metadata": {
    "collapsed": true
   },
   "outputs": [],
   "source": [
    "hist = df.hist()"
   ]
  },
  {
   "cell_type": "code",
   "execution_count": null,
   "metadata": {
    "collapsed": true,
    "scrolled": true
   },
   "outputs": [],
   "source": []
  },
  {
   "cell_type": "code",
   "execution_count": 7,
   "metadata": {},
   "outputs": [
    {
     "data": {
      "text/plain": [
       "array([[<matplotlib.axes._subplots.AxesSubplot object at 0x000000000A9276D8>]], dtype=object)"
      ]
     },
     "execution_count": 7,
     "metadata": {},
     "output_type": "execute_result"
    }
   ],
   "source": [
    "hist"
   ]
  },
  {
   "cell_type": "code",
   "execution_count": 8,
   "metadata": {},
   "outputs": [
    {
     "data": {
      "text/plain": [
       "[]"
      ]
     },
     "execution_count": 8,
     "metadata": {},
     "output_type": "execute_result"
    }
   ],
   "source": [
    "df.hist(bins=100)[0][0].plot()"
   ]
  },
  {
   "cell_type": "code",
   "execution_count": 6,
   "metadata": {
    "collapsed": true
   },
   "outputs": [],
   "source": [
    "with open('../output/net_dump/lmbd100/traveltime_1_1_0_0_100_True.json') as f:\n",
    "    nom_tt = json.load(f)"
   ]
  },
  {
   "cell_type": "code",
   "execution_count": 7,
   "metadata": {
    "collapsed": true
   },
   "outputs": [],
   "source": [
    "df2 = pd.DataFrame.from_dict(data=nom_tt, orient='index')"
   ]
  },
  {
   "cell_type": "code",
   "execution_count": 8,
   "metadata": {
    "collapsed": true
   },
   "outputs": [],
   "source": [
    "df.columns = ['55_1']\n",
    "df2.columns = ['nom']"
   ]
  },
  {
   "cell_type": "code",
   "execution_count": 12,
   "metadata": {},
   "outputs": [
    {
     "data": {
      "text/html": [
       "<div>\n",
       "<style>\n",
       "    .dataframe thead tr:only-child th {\n",
       "        text-align: right;\n",
       "    }\n",
       "\n",
       "    .dataframe thead th {\n",
       "        text-align: left;\n",
       "    }\n",
       "\n",
       "    .dataframe tbody tr th {\n",
       "        vertical-align: top;\n",
       "    }\n",
       "</style>\n",
       "<table border=\"1\" class=\"dataframe\">\n",
       "  <thead>\n",
       "    <tr style=\"text-align: right;\">\n",
       "      <th></th>\n",
       "      <th>55_1</th>\n",
       "    </tr>\n",
       "  </thead>\n",
       "  <tbody>\n",
       "    <tr>\n",
       "      <th>11542</th>\n",
       "      <td>632.0</td>\n",
       "    </tr>\n",
       "    <tr>\n",
       "      <th>11547</th>\n",
       "      <td>118.0</td>\n",
       "    </tr>\n",
       "    <tr>\n",
       "      <th>89377</th>\n",
       "      <td>705.0</td>\n",
       "    </tr>\n",
       "    <tr>\n",
       "      <th>145202</th>\n",
       "      <td>387.0</td>\n",
       "    </tr>\n",
       "    <tr>\n",
       "      <th>148707</th>\n",
       "      <td>376.0</td>\n",
       "    </tr>\n",
       "  </tbody>\n",
       "</table>\n",
       "</div>"
      ],
      "text/plain": [
       "         55_1\n",
       "11542   632.0\n",
       "11547   118.0\n",
       "89377   705.0\n",
       "145202  387.0\n",
       "148707  376.0"
      ]
     },
     "execution_count": 12,
     "metadata": {},
     "output_type": "execute_result"
    }
   ],
   "source": [
    "df.head()"
   ]
  },
  {
   "cell_type": "code",
   "execution_count": 9,
   "metadata": {
    "collapsed": true
   },
   "outputs": [],
   "source": [
    "result = pd.concat([df,df2], axis=1, join='inner')"
   ]
  },
  {
   "cell_type": "code",
   "execution_count": 14,
   "metadata": {},
   "outputs": [
    {
     "data": {
      "text/html": [
       "<div>\n",
       "<style>\n",
       "    .dataframe thead tr:only-child th {\n",
       "        text-align: right;\n",
       "    }\n",
       "\n",
       "    .dataframe thead th {\n",
       "        text-align: left;\n",
       "    }\n",
       "\n",
       "    .dataframe tbody tr th {\n",
       "        vertical-align: top;\n",
       "    }\n",
       "</style>\n",
       "<table border=\"1\" class=\"dataframe\">\n",
       "  <thead>\n",
       "    <tr style=\"text-align: right;\">\n",
       "      <th></th>\n",
       "      <th>55_1</th>\n",
       "      <th>nom</th>\n",
       "    </tr>\n",
       "  </thead>\n",
       "  <tbody>\n",
       "    <tr>\n",
       "      <th>11542</th>\n",
       "      <td>632.0</td>\n",
       "      <td>644.0</td>\n",
       "    </tr>\n",
       "    <tr>\n",
       "      <th>11547</th>\n",
       "      <td>118.0</td>\n",
       "      <td>118.0</td>\n",
       "    </tr>\n",
       "    <tr>\n",
       "      <th>89377</th>\n",
       "      <td>705.0</td>\n",
       "      <td>704.0</td>\n",
       "    </tr>\n",
       "    <tr>\n",
       "      <th>145202</th>\n",
       "      <td>387.0</td>\n",
       "      <td>496.0</td>\n",
       "    </tr>\n",
       "    <tr>\n",
       "      <th>148707</th>\n",
       "      <td>376.0</td>\n",
       "      <td>369.0</td>\n",
       "    </tr>\n",
       "  </tbody>\n",
       "</table>\n",
       "</div>"
      ],
      "text/plain": [
       "         55_1    nom\n",
       "11542   632.0  644.0\n",
       "11547   118.0  118.0\n",
       "89377   705.0  704.0\n",
       "145202  387.0  496.0\n",
       "148707  376.0  369.0"
      ]
     },
     "execution_count": 14,
     "metadata": {},
     "output_type": "execute_result"
    }
   ],
   "source": [
    "result.head()"
   ]
  },
  {
   "cell_type": "code",
   "execution_count": 32,
   "metadata": {
    "collapsed": true
   },
   "outputs": [],
   "source": [
    "hists = result.hist(bins=100, histtype='step', log=True, linewidth=2.0)"
   ]
  },
  {
   "cell_type": "code",
   "execution_count": 27,
   "metadata": {},
   "outputs": [
    {
     "data": {
      "text/plain": [
       "55_1    29927.0\n",
       "nom      1567.0\n",
       "Name: 53922, dtype: float64"
      ]
     },
     "execution_count": 27,
     "metadata": {},
     "output_type": "execute_result"
    }
   ],
   "source": [
    "result.loc[result['55_1'].idxmax()]"
   ]
  },
  {
   "cell_type": "code",
   "execution_count": 28,
   "metadata": {},
   "outputs": [
    {
     "data": {
      "text/plain": [
       "55_1    2653.0\n",
       "nom     3634.0\n",
       "Name: 131737, dtype: float64"
      ]
     },
     "execution_count": 28,
     "metadata": {},
     "output_type": "execute_result"
    }
   ],
   "source": [
    "result.loc[result['nom'].idxmax()]\n"
   ]
  },
  {
   "cell_type": "code",
   "execution_count": 29,
   "metadata": {},
   "outputs": [
    {
     "data": {
      "text/plain": [
       "<matplotlib.axes._subplots.AxesSubplot at 0x81bbdd8>"
      ]
     },
     "execution_count": 29,
     "metadata": {},
     "output_type": "execute_result"
    }
   ],
   "source": [
    "hists[0][0]"
   ]
  },
  {
   "cell_type": "code",
   "execution_count": 36,
   "metadata": {
    "collapsed": true
   },
   "outputs": [],
   "source": [
    "hists2 = result.hist(bins=10000, histtype='step', linewidth=2.0)"
   ]
  },
  {
   "cell_type": "code",
   "execution_count": 37,
   "metadata": {
    "collapsed": true
   },
   "outputs": [],
   "source": [
    "plt.show()"
   ]
  },
  {
   "cell_type": "code",
   "execution_count": null,
   "metadata": {
    "collapsed": true
   },
   "outputs": [],
   "source": [
    "import scipy.stats"
   ]
  },
  {
   "cell_type": "code",
   "execution_count": 40,
   "metadata": {
    "collapsed": true
   },
   "outputs": [],
   "source": [
    "mu_nom, sigma_nom = scipy.stats.norm.fit(result['nom'])"
   ]
  },
  {
   "cell_type": "code",
   "execution_count": 41,
   "metadata": {
    "collapsed": true
   },
   "outputs": [],
   "source": [
    "import matplotlib.mlab as mlab"
   ]
  },
  {
   "cell_type": "code",
   "execution_count": 43,
   "metadata": {
    "collapsed": true
   },
   "outputs": [],
   "source": [
    "y = mlab.normpdf(10000, mu_nom, sigma_nom)"
   ]
  },
  {
   "cell_type": "code",
   "execution_count": 44,
   "metadata": {
    "collapsed": true
   },
   "outputs": [],
   "source": [
    "l = plt.plot(10000, y, 'r--', linewidth=2)"
   ]
  },
  {
   "cell_type": "code",
   "execution_count": 46,
   "metadata": {
    "collapsed": true
   },
   "outputs": [],
   "source": [
    "plt.show()"
   ]
  },
  {
   "cell_type": "code",
   "execution_count": 47,
   "metadata": {
    "collapsed": true
   },
   "outputs": [],
   "source": [
    "import pkgutil\n",
    "import importlib"
   ]
  },
  {
   "cell_type": "code",
   "execution_count": 49,
   "metadata": {
    "collapsed": true
   },
   "outputs": [],
   "source": [
    "from scipy.stats import *\n",
    "    "
   ]
  },
  {
   "cell_type": "code",
   "execution_count": 53,
   "metadata": {
    "collapsed": true
   },
   "outputs": [],
   "source": [
    "dist_list = {cls.__name__: cls for cls in rv_continuous.__subclasses__() if getattr(cls,\"fit\", False)}"
   ]
  },
  {
   "cell_type": "code",
   "execution_count": 51,
   "metadata": {},
   "outputs": [
    {
     "data": {
      "text/plain": [
       "{'alpha_gen': scipy.stats._continuous_distns.alpha_gen,\n",
       " 'anglit_gen': scipy.stats._continuous_distns.anglit_gen,\n",
       " 'arcsine_gen': scipy.stats._continuous_distns.arcsine_gen,\n",
       " 'argus_gen': scipy.stats._continuous_distns.argus_gen,\n",
       " 'beta_gen': scipy.stats._continuous_distns.beta_gen,\n",
       " 'betaprime_gen': scipy.stats._continuous_distns.betaprime_gen,\n",
       " 'bradford_gen': scipy.stats._continuous_distns.bradford_gen,\n",
       " 'burr12_gen': scipy.stats._continuous_distns.burr12_gen,\n",
       " 'burr_gen': scipy.stats._continuous_distns.burr_gen,\n",
       " 'cauchy_gen': scipy.stats._continuous_distns.cauchy_gen,\n",
       " 'chi2_gen': scipy.stats._continuous_distns.chi2_gen,\n",
       " 'chi_gen': scipy.stats._continuous_distns.chi_gen,\n",
       " 'cosine_gen': scipy.stats._continuous_distns.cosine_gen,\n",
       " 'dgamma_gen': scipy.stats._continuous_distns.dgamma_gen,\n",
       " 'dweibull_gen': scipy.stats._continuous_distns.dweibull_gen,\n",
       " 'expon_gen': scipy.stats._continuous_distns.expon_gen,\n",
       " 'exponnorm_gen': scipy.stats._continuous_distns.exponnorm_gen,\n",
       " 'exponpow_gen': scipy.stats._continuous_distns.exponpow_gen,\n",
       " 'exponweib_gen': scipy.stats._continuous_distns.exponweib_gen,\n",
       " 'f_gen': scipy.stats._continuous_distns.f_gen,\n",
       " 'fatiguelife_gen': scipy.stats._continuous_distns.fatiguelife_gen,\n",
       " 'foldcauchy_gen': scipy.stats._continuous_distns.foldcauchy_gen,\n",
       " 'foldnorm_gen': scipy.stats._continuous_distns.foldnorm_gen,\n",
       " 'frechet_l_gen': scipy.stats._continuous_distns.frechet_l_gen,\n",
       " 'frechet_r_gen': scipy.stats._continuous_distns.frechet_r_gen,\n",
       " 'gamma_gen': scipy.stats._continuous_distns.gamma_gen,\n",
       " 'gausshyper_gen': scipy.stats._continuous_distns.gausshyper_gen,\n",
       " 'genexpon_gen': scipy.stats._continuous_distns.genexpon_gen,\n",
       " 'genextreme_gen': scipy.stats._continuous_distns.genextreme_gen,\n",
       " 'gengamma_gen': scipy.stats._continuous_distns.gengamma_gen,\n",
       " 'genhalflogistic_gen': scipy.stats._continuous_distns.genhalflogistic_gen,\n",
       " 'genlogistic_gen': scipy.stats._continuous_distns.genlogistic_gen,\n",
       " 'gennorm_gen': scipy.stats._continuous_distns.gennorm_gen,\n",
       " 'genpareto_gen': scipy.stats._continuous_distns.genpareto_gen,\n",
       " 'gilbrat_gen': scipy.stats._continuous_distns.gilbrat_gen,\n",
       " 'gompertz_gen': scipy.stats._continuous_distns.gompertz_gen,\n",
       " 'gumbel_l_gen': scipy.stats._continuous_distns.gumbel_l_gen,\n",
       " 'gumbel_r_gen': scipy.stats._continuous_distns.gumbel_r_gen,\n",
       " 'halfcauchy_gen': scipy.stats._continuous_distns.halfcauchy_gen,\n",
       " 'halfgennorm_gen': scipy.stats._continuous_distns.halfgennorm_gen,\n",
       " 'halflogistic_gen': scipy.stats._continuous_distns.halflogistic_gen,\n",
       " 'halfnorm_gen': scipy.stats._continuous_distns.halfnorm_gen,\n",
       " 'hypsecant_gen': scipy.stats._continuous_distns.hypsecant_gen,\n",
       " 'invgamma_gen': scipy.stats._continuous_distns.invgamma_gen,\n",
       " 'invgauss_gen': scipy.stats._continuous_distns.invgauss_gen,\n",
       " 'invweibull_gen': scipy.stats._continuous_distns.invweibull_gen,\n",
       " 'johnsonsb_gen': scipy.stats._continuous_distns.johnsonsb_gen,\n",
       " 'johnsonsu_gen': scipy.stats._continuous_distns.johnsonsu_gen,\n",
       " 'kappa3_gen': scipy.stats._continuous_distns.kappa3_gen,\n",
       " 'kappa4_gen': scipy.stats._continuous_distns.kappa4_gen,\n",
       " 'ksone_gen': scipy.stats._continuous_distns.ksone_gen,\n",
       " 'kstwobign_gen': scipy.stats._continuous_distns.kstwobign_gen,\n",
       " 'laplace_gen': scipy.stats._continuous_distns.laplace_gen,\n",
       " 'levy_gen': scipy.stats._continuous_distns.levy_gen,\n",
       " 'levy_l_gen': scipy.stats._continuous_distns.levy_l_gen,\n",
       " 'levy_stable_gen': scipy.stats._continuous_distns.levy_stable_gen,\n",
       " 'loggamma_gen': scipy.stats._continuous_distns.loggamma_gen,\n",
       " 'logistic_gen': scipy.stats._continuous_distns.logistic_gen,\n",
       " 'loglaplace_gen': scipy.stats._continuous_distns.loglaplace_gen,\n",
       " 'lognorm_gen': scipy.stats._continuous_distns.lognorm_gen,\n",
       " 'lomax_gen': scipy.stats._continuous_distns.lomax_gen,\n",
       " 'maxwell_gen': scipy.stats._continuous_distns.maxwell_gen,\n",
       " 'mielke_gen': scipy.stats._continuous_distns.mielke_gen,\n",
       " 'nakagami_gen': scipy.stats._continuous_distns.nakagami_gen,\n",
       " 'ncf_gen': scipy.stats._continuous_distns.ncf_gen,\n",
       " 'nct_gen': scipy.stats._continuous_distns.nct_gen,\n",
       " 'ncx2_gen': scipy.stats._continuous_distns.ncx2_gen,\n",
       " 'norm_gen': scipy.stats._continuous_distns.norm_gen,\n",
       " 'pareto_gen': scipy.stats._continuous_distns.pareto_gen,\n",
       " 'pearson3_gen': scipy.stats._continuous_distns.pearson3_gen,\n",
       " 'powerlaw_gen': scipy.stats._continuous_distns.powerlaw_gen,\n",
       " 'powerlognorm_gen': scipy.stats._continuous_distns.powerlognorm_gen,\n",
       " 'powernorm_gen': scipy.stats._continuous_distns.powernorm_gen,\n",
       " 'rayleigh_gen': scipy.stats._continuous_distns.rayleigh_gen,\n",
       " 'rdist_gen': scipy.stats._continuous_distns.rdist_gen,\n",
       " 'recipinvgauss_gen': scipy.stats._continuous_distns.recipinvgauss_gen,\n",
       " 'reciprocal_gen': scipy.stats._continuous_distns.reciprocal_gen,\n",
       " 'rice_gen': scipy.stats._continuous_distns.rice_gen,\n",
       " 'rv_histogram': scipy.stats._continuous_distns.rv_histogram,\n",
       " 'semicircular_gen': scipy.stats._continuous_distns.semicircular_gen,\n",
       " 'skew_norm_gen': scipy.stats._continuous_distns.skew_norm_gen,\n",
       " 't_gen': scipy.stats._continuous_distns.t_gen,\n",
       " 'trapz_gen': scipy.stats._continuous_distns.trapz_gen,\n",
       " 'triang_gen': scipy.stats._continuous_distns.triang_gen,\n",
       " 'truncexpon_gen': scipy.stats._continuous_distns.truncexpon_gen,\n",
       " 'truncnorm_gen': scipy.stats._continuous_distns.truncnorm_gen,\n",
       " 'tukeylambda_gen': scipy.stats._continuous_distns.tukeylambda_gen,\n",
       " 'uniform_gen': scipy.stats._continuous_distns.uniform_gen,\n",
       " 'vonmises_gen': scipy.stats._continuous_distns.vonmises_gen,\n",
       " 'wrapcauchy_gen': scipy.stats._continuous_distns.wrapcauchy_gen}"
      ]
     },
     "execution_count": 51,
     "metadata": {},
     "output_type": "execute_result"
    }
   ],
   "source": [
    "dist_list"
   ]
  },
  {
   "cell_type": "code",
   "execution_count": 13,
   "metadata": {},
   "outputs": [
    {
     "data": {
      "text/plain": [
       "646.1992149433066"
      ]
     },
     "execution_count": 13,
     "metadata": {},
     "output_type": "execute_result"
    }
   ],
   "source": [
    "result['nom'].mean()\n"
   ]
  },
  {
   "cell_type": "code",
   "execution_count": 14,
   "metadata": {},
   "outputs": [
    {
     "data": {
      "text/plain": [
       "754.7584448733619"
      ]
     },
     "execution_count": 14,
     "metadata": {},
     "output_type": "execute_result"
    }
   ],
   "source": [
    "result['55_1'].mean()"
   ]
  },
  {
   "cell_type": "code",
   "execution_count": 15,
   "metadata": {},
   "outputs": [
    {
     "data": {
      "text/plain": [
       "563.0"
      ]
     },
     "execution_count": 15,
     "metadata": {},
     "output_type": "execute_result"
    }
   ],
   "source": [
    "result['nom'].median()"
   ]
  },
  {
   "cell_type": "code",
   "execution_count": 16,
   "metadata": {},
   "outputs": [
    {
     "data": {
      "text/plain": [
       "569.0"
      ]
     },
     "execution_count": 16,
     "metadata": {},
     "output_type": "execute_result"
    }
   ],
   "source": [
    "result['55_1'].median()"
   ]
  },
  {
   "cell_type": "code",
   "execution_count": null,
   "metadata": {
    "collapsed": true
   },
   "outputs": [],
   "source": []
  }
 ],
 "metadata": {
  "kernelspec": {
   "display_name": "Python 3",
   "language": "python",
   "name": "python3"
  },
  "language_info": {
   "codemirror_mode": {
    "name": "ipython",
    "version": 3
   },
   "file_extension": ".py",
   "mimetype": "text/x-python",
   "name": "python",
   "nbconvert_exporter": "python",
   "pygments_lexer": "ipython3",
   "version": "3.6.7"
  }
 },
 "nbformat": 4,
 "nbformat_minor": 2
}
